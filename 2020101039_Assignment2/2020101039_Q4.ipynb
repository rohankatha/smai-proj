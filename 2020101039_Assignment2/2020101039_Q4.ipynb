{
 "cells": [
  {
   "cell_type": "markdown",
   "id": "improving-pepper",
   "metadata": {},
   "source": [
    "# Assignment 2 - Question 4\n",
    "The objective of this assignment is to get you familiarize with  the  problem  of  `Linear Regression`.\n",
    "\n",
    "## Instructions\n",
    "- Write your code and analysis in the indicated cells.\n",
    "- Ensure that this notebook runs without errors when the cells are run in sequence.\n",
    "- Do not attempt to change the contents of other cells.\n",
    "- No inbuilt functions to be used until specified\n",
    "\n",
    "## Submission\n",
    "- Ensure that this notebook runs without errors when the cells are run in sequence.\n",
    "- Rename the notebook to `<roll_number>_Q4.ipynb`.\n",
    "- Fill the Name and Roll number in the below markdown"
   ]
  },
  {
   "cell_type": "markdown",
   "id": "9fd7f2e5",
   "metadata": {},
   "source": [
    "Name:Katha rohan reddy <br>\n",
    "Roll Number:2020101039"
   ]
  },
  {
   "cell_type": "markdown",
   "id": "final-transaction",
   "metadata": {},
   "source": [
    "## Background about the dataset\n",
    "\n",
    "TLDR: You have 4 independent variables (`float`) for each molecule. You can use a linear combination of these 4 independent variables to predict the bandgap (dependent variable) of each molecule.\n",
    "\n",
    "You can read more about the problem in [Li et al, Bandgap tuning strategy by cations and halide ions of lead halide perovskites learned from machine learning, RSC Adv., 2021,11, 15688-15694](https://doi.org/10.1039/D1RA03117A)."
   ]
  },
  {
   "cell_type": "code",
   "execution_count": 45,
   "id": "lyric-olympus",
   "metadata": {},
   "outputs": [],
   "source": [
    "import csv\n",
    "import random\n",
    "import numpy as np"
   ]
  },
  {
   "cell_type": "code",
   "execution_count": 46,
   "id": "hundred-receipt",
   "metadata": {},
   "outputs": [],
   "source": [
    "all_molecules = list()\n",
    "\n",
    "with open('bg_data.txt', 'r') as infile:\n",
    "    input_rows = csv.DictReader(infile)\n",
    "    \n",
    "    for row in input_rows:\n",
    "        current_mol = ([float(row['Cs']), float(row['FA']), float(row['Cl']), float(row['Br'])], float(row['Bandgap']))\n",
    "        all_molecules.append(current_mol)\n",
    "\n",
    "random.shuffle(all_molecules)\n",
    "\n",
    "\n",
    "num_train = int(len(all_molecules) * 0.8)\n",
    "\n",
    "# each point in x_train has 4 values - 1 for each feature\n",
    "x_train = [x[0] for x in all_molecules[:num_train]]\n",
    "# each point in y_train has 1 value - the bandgap of the molecule\n",
    "y_train = [x[1] for x in all_molecules[:num_train]]\n",
    "\n",
    "x_test = [x[0] for x in all_molecules[num_train:]]\n",
    "y_test = [x[1] for x in all_molecules[num_train:]]"
   ]
  },
  {
   "cell_type": "markdown",
   "id": "square-direction",
   "metadata": {},
   "source": [
    "### 4.1 Implement a Linear Regression model that minimizes the MSE **without using any libraries**. You may use NumPy to vectorize your code, but *do not use numpy.polyfit* or anything similar.\n",
    "\n",
    "4.1.1 Explain how you plan to implement Linear Regression in 5-10 lines."
   ]
  },
  {
   "cell_type": "markdown",
   "id": "4558d8f1",
   "metadata": {},
   "source": [
    "### Linear regresssion\n",
    "In Linear regression the y_pred is given by f(wx+b) mse is used as loss function<br>\n",
    "First we have to inititalize the weight and bias parameters randomly <br>\n",
    "Then we have to caluculate mse if it is less than 0.000 then it should be consideres converged<br>\n",
    "Afterwards then we have to apply gradient descent and hence correct the weights<br>\n",
    "Then caluculate the mse again <br>\n",
    "\n"
   ]
  },
  {
   "cell_type": "markdown",
   "id": "frozen-forth",
   "metadata": {},
   "source": [
    "<!-- your answer to 1.1.1 -->"
   ]
  },
  {
   "cell_type": "markdown",
   "id": "addressed-winter",
   "metadata": {},
   "source": [
    "4.1.2 Implement Linear Regression using `x_train` and `y_train` as the train dataset.\n",
    "\n",
    "4.1.2.1 Choose the best learning rate and print the learning rate for which you achieved the best MSE."
   ]
  },
  {
   "cell_type": "markdown",
   "id": "455872c3",
   "metadata": {},
   "source": [
    "It is done by with the help of hessian matrix\n",
    "n_opt is 0.8"
   ]
  },
  {
   "cell_type": "code",
   "execution_count": 47,
   "id": "angry-depression",
   "metadata": {},
   "outputs": [
    {
     "name": "stdout",
     "output_type": "stream",
     "text": [
      "[0.1, 0.2, 0.3, 0.4, 0.5, 0.6, 0.7, 0.8, 0.9, 1.0, 1.1, 1.2, 1.3, 1.4, 1.5, 1.6, 1.7, 1.8, 1.9] [array([1.20097374]), array([9.98269298e-07]), array([9.98269298e-07]), array([9.98269298e-07]), array([9.98269298e-07]), array([9.98269298e-07]), array([9.98269298e-07]), array([9.98269298e-07]), array([9.98269298e-07]), array([9.98269298e-07]), array([9.98269298e-07]), array([9.98269298e-07]), array([9.98269298e-07]), array([9.98269298e-07]), array([9.98269298e-07]), array([9.98269298e-07]), array([9.98269298e-07]), array([9.98269298e-07]), array([9.98269298e-07])]\n"
     ]
    }
   ],
   "source": [
    "def mse (actual, predict,x):\n",
    "    sum = 0\n",
    "    actual = np.array(actual)\n",
    "    for i in range(np.size(x,1)):\n",
    "       diff = actual[i]-predict[i]\n",
    "       sum = sum + diff*diff\n",
    "    return sum/np.size(x,1)\n",
    "def mse_diff(actual,predict,x):\n",
    "    sum = 0\n",
    "    actual = np.array(actual)\n",
    "    x = np.array(x)\n",
    "    for i in range(np.size(x,1)):\n",
    "       diff = (predict[i]-actual[i])*x[i]\n",
    "       sum = sum + diff\n",
    "\n",
    "    return 2*sum/np.size(x,1)\n",
    "def mse_diff_bias(actual,predict,x):\n",
    "    sum = 0\n",
    "    actual = np.array(actual)\n",
    "    for i in range(np.size(x,1)):\n",
    "       diff = (predict[i]-actual[i])\n",
    "       sum = sum + diff\n",
    "\n",
    "    return 2*sum/np.size(x,1)\n",
    "    \n",
    "\n",
    " \n",
    "# best learning rate is given by 2/max(lamda) where lamda are given by hermitian matrix of mse \n",
    "\n",
    "def optn():\n",
    "    #initial\n",
    "    n = 0.8\n",
    "    x = np.random.randint(size=1,low=0,high = 4)\n",
    "    y = np.random.randint(size=1,low=0,high = 4)\n",
    "    w = np.random.randint(size=(2),low = 0,high = 10)\n",
    "    val1 = np.sum(x_train,x_train)/np.size(x_train,1)\n",
    "    val2 = np.sum(y_train,y_train)/np.size(y_train,1)\n",
    "    val3 = np.sum(x_train,y_train)/np.size(y_train,1)\n",
    "    Hessian =  np.array([[val1,val3],[val3,val2]])\n",
    "# eigen values of hessian matrix\n",
    "    X = np.linalg.eigvals(np.linalg.inv(Hessian))\n",
    "    n_opt = min(X[0],X[1])*2\n",
    "    return n_opt\n",
    "\n",
    "\n",
    "\n",
    "    \n",
    "# implement Linear Regression\n",
    "w = np.random.rand(4)\n",
    "b = np.random.rand(1)\n",
    "list_y =[np.dot(w,i)+ b for i in x_train]\n",
    "\n",
    "list_nopt = []\n",
    "list_mse = []\n",
    "for k in range(1,20):\n",
    " list_nopt.append(k/10)\n",
    " for i in range(10000):\n",
    "    if(i == 0):\n",
    "       list_mse.append(mse(y_train,list_y,x_train))\n",
    "    if(mse(y_train,list_y,x_train) < 0.000001):\n",
    "        break\n",
    "    else:\n",
    "        w = w-mse_diff(y_train,list_y,x_train)*(k/10)\n",
    "        b = b-mse_diff_bias(y_train,list_y,x_train)*(k/10)\n",
    "        list_y =[np.dot(w,i)+ b for i in x_train]\n",
    "        \n",
    "        \n",
    "\n",
    "y_pred = [np.dot(w,i)+b for i in x_test]\n",
    "\n",
    "print(list_nopt,list_mse)\n",
    "#best value is achieved at 0.8\n"
   ]
  },
  {
   "cell_type": "markdown",
   "id": "angry-tampa",
   "metadata": {},
   "source": [
    "4.1.3 Make a [Parity Plot](https://en.wikipedia.org/wiki/Parity_plot) of your model's bandgap predictions on the test set with the actual values."
   ]
  },
  {
   "cell_type": "code",
   "execution_count": 48,
   "id": "foster-center",
   "metadata": {},
   "outputs": [
    {
     "data": {
      "image/png": "[encoded data removed]",
      "text/plain": [
       "<Figure size 1000x2000 with 1 Axes>"
      ]
     },
     "metadata": {},
     "output_type": "display_data"
    }
   ],
   "source": [
    "# Get the predictions of x_test into `y_pred`\n",
    "\n",
    "#\n",
    "# ...\n",
    "#\n",
    "\n",
    "import matplotlib.pyplot as plt\n",
    "fig, ax = plt.subplots(figsize=(10,20))\n",
    "\n",
    "ax.scatter(y_test, y_pred)\n",
    "\n",
    "lims = [\n",
    "    np.min([ax.get_xlim(), ax.get_ylim()]),\n",
    "    np.max([ax.get_xlim(), ax.get_ylim()]),\n",
    "]\n",
    "ax.plot(lims, lims, 'k-', alpha=0.75, zorder=0)\n",
    "ax.set_aspect('equal')\n",
    "ax.set_xlim(lims)\n",
    "ax.set_ylim(lims)\n",
    "\n",
    "ax.set_title('Parity Plot of Custom Linear Regression')\n",
    "ax.set_xlabel('Ground truth bandgap values')\n",
    "ax.set_ylabel('Predicted bandgap values')\n",
    "plt.show()\n"
   ]
  },
  {
   "cell_type": "markdown",
   "id": "dominant-chaos",
   "metadata": {},
   "source": [
    "### 4.2 Implement Ridge regression\n",
    "4.2.1 Explain Ridge regression briefly in 1-2 lines.\n",
    "<br>\n",
    "Ridge regression is the technique to implement linear regression with l2 regularization <br>\n",
    "It helps us in preventing over fitting"
   ]
  },
  {
   "cell_type": "markdown",
   "id": "happy-cyprus",
   "metadata": {},
   "source": [
    "<!-- Your answer to 1.2.1 -->"
   ]
  },
  {
   "cell_type": "markdown",
   "id": "tight-forwarding",
   "metadata": {},
   "source": [
    "4.2.2 Implement Ridge regression and make a table of different RMSE scores you achieved with different values of alpha. What does the parameter `alpha` do? How does it affect the results here? Explain in 5-10 lines in total. (You can use scikit-learn from this cell onwards)"
   ]
  },
  {
   "cell_type": "markdown",
   "id": "cd4c0b42",
   "metadata": {},
   "source": [
    "The alpha term helps us in regularization and <br>\n",
    "it will penalize the parameters which have overfit the data <br>\n",
    "With regularization, the number of features used in training is kept constant, yet the magnitude of the coefficients\n",
    "When the alpha increase the rsme increases monotonously\n",
    "<br>"
   ]
  },
  {
   "cell_type": "code",
   "execution_count": 49,
   "id": "violent-northern",
   "metadata": {},
   "outputs": [
    {
     "name": "stdout",
     "output_type": "stream",
     "text": [
      "[0.11882284030135112, 0.12690565495587097, 0.1570867449951014, 0.18599450199493628, 0.210664379749763, 0.23150966865987502, 0.2492848862964892, 0.26462973854849864, 0.2780336006552877, 0.2898651550555516]\n"
     ]
    },
    {
     "data": {
      "image/png": "[encoded data removed]",
      "text/plain": [
       "<Figure size 640x480 with 1 Axes>"
      ]
     },
     "metadata": {},
     "output_type": "display_data"
    }
   ],
   "source": [
    "# you should not have imported sklearn before this point\n",
    "import sklearn\n",
    "from sklearn.linear_model import Ridge,Lasso\n",
    "from sklearn.metrics import mean_squared_error\n",
    "list_rsme = []\n",
    "list_a = []\n",
    "for i in range(10):\n",
    "   list_a.append(i)\n",
    "   ridgeclassifier = Ridge(alpha=i)\n",
    "   ridgeclassifier.fit(x_train,y_train)\n",
    "   y_pred = ridgeclassifier.predict(x_test)\n",
    "   rmse = mean_squared_error(y_test, y_pred, squared=False)\n",
    "   list_rsme.append(rmse)\n",
    "\n",
    "print(list_rsme)\n",
    "plt.plot(list_rsme,list_a)\n",
    "plt.show()\n"
   ]
  },
  {
   "cell_type": "markdown",
   "id": "adolescent-temperature",
   "metadata": {},
   "source": [
    "### 4.3 Implement Lasso regression\n",
    "4.3.1 Explain Lasso regression briefly in 1-2 lines."
   ]
  },
  {
   "cell_type": "markdown",
   "id": "5e5f338b",
   "metadata": {},
   "source": [
    "The lasso regression is l1 regularization here penalty term is added to mse <br> and it is used to avoid overfitting\n"
   ]
  },
  {
   "cell_type": "markdown",
   "id": "popular-wonder",
   "metadata": {},
   "source": [
    "4.3.2 Implement Lasso regression and make a table of different RMSE scores you achieved with different values of alpha. What does the parameter `alpha` do? How does it affect the results here? Explain in 5-10 lines in total."
   ]
  },
  {
   "cell_type": "markdown",
   "id": "40e17c9f",
   "metadata": {},
   "source": [
    "Here Rmse is being indepented on alpha as the differention leads to constant term lamda unlike in ridge regression"
   ]
  },
  {
   "cell_type": "code",
   "execution_count": 50,
   "id": "extra-brighton",
   "metadata": {},
   "outputs": [
    {
     "name": "stdout",
     "output_type": "stream",
     "text": [
      "[0.11882284030135123, 0.5054452920439346, 0.5054452920439346, 0.5054452920439346, 0.5054452920439346, 0.5054452920439346, 0.5054452920439346, 0.5054452920439346, 0.5054452920439346, 0.5054452920439346]\n"
     ]
    },
    {
     "name": "stderr",
     "output_type": "stream",
     "text": [
      "/var/folders/jp/ygn5sqhj67d7g7973sn3pt440000gn/T/ipykernel_2711/997535903.py:55: UserWarning: With alpha=0, this algorithm does not converge well. You are advised to use the LinearRegression estimator\n",
      "  Lassoclassifier.fit(x_train,y_train)\n",
      "/opt/homebrew/lib/python3.10/site-packages/sklearn/linear_model/_coordinate_descent.py:648: UserWarning: Coordinate descent with no regularization may lead to unexpected results and is discouraged.\n",
      "  model = cd_fast.enet_coordinate_descent(\n",
      "/opt/homebrew/lib/python3.10/site-packages/sklearn/linear_model/_coordinate_descent.py:648: ConvergenceWarning: Objective did not converge. You might want to increase the number of iterations, check the scale of the features or consider increasing regularisation. Duality gap: 1.585e-01, tolerance: 1.657e-03 Linear regression models with null weight for the l1 regularization term are more efficiently fitted using one of the solvers implemented in sklearn.linear_model.Ridge/RidgeCV instead.\n",
      "  model = cd_fast.enet_coordinate_descent(\n"
     ]
    },
    {
     "data": {
      "image/png": "[encoded data removed]",
      "text/plain": [
       "<Figure size 640x480 with 1 Axes>"
      ]
     },
     "metadata": {},
     "output_type": "display_data"
    }
   ],
   "source": [
    "# implement Lasso regression and make a table where you explore the effect of different values of\n",
    "#  `alpha`\n",
    "'''\n",
    "def mse_lasso(actual, predict,x,lamda,w):\n",
    "    sum = 0\n",
    "    actual = np.array(actual)\n",
    "    for i in range(np.size(x,1)):\n",
    "       diff = actual[i]-predict[i]\n",
    "       sum = sum + diff*diff + lamda*(abs(w[i]))\n",
    "    return sum/np.size(x,1)\n",
    "def mse_diff_lasso(actual,predict,x,lamda,w):\n",
    "    sum = 0\n",
    "    actual = np.array(actual)\n",
    "    x = np.array(x)\n",
    "    for i in range(np.size(x,1)):\n",
    "       diff = (predict[i]-actual[i])*x[i]*2\n",
    "       if(w[i] < 0):\n",
    "         sum = (sum + diff - lamda)/np.size(x,1)\n",
    "       else:\n",
    "         sum = (sum + diff + lamda)/np.size(x,1)\n",
    "       \n",
    "    return sum \n",
    "def mse_diff_bias_lasso(actual,predict,x):\n",
    "    sum = 0\n",
    "    actual = np.array(actual)\n",
    "    for i in range(np.size(x,1)):\n",
    "       diff = (predict[i]-actual[i])\n",
    "       sum = sum + diff\n",
    "\n",
    "    return sum/2*np.size(x,1)\n",
    "    \n",
    "w = np.random.rand(4)\n",
    "b = np.random.rand(1)\n",
    "list_y =[np.dot(w,i)+ b for i in x_train]\n",
    "\n",
    "\n",
    "for i in range(10000):\n",
    "    if(mse_lasso(y_train,list_y,x_train,2,w) < 0.01):\n",
    "        break\n",
    "    else:\n",
    "        w = w-mse_diff_lasso(y_train,list_y,x_train,2,w)*0.1\n",
    "        b = b-mse_diff_bias_lasso(y_train,list_y,x_train)*0.1\n",
    "        list_y =[np.dot(w,i)+ b for i in x_train]\n",
    "        \n",
    "\n",
    "y_pred = [np.dot(w,i)+b for i in x_test]\n",
    "print(list_y)\n",
    "print(y_train)\n",
    "'''\n",
    "list_rsme_lasso = []\n",
    "list_a = []\n",
    "for i in range(10):\n",
    "   list_a.append(i)\n",
    "   Lassoclassifier = Lasso(alpha=i)\n",
    "   Lassoclassifier.fit(x_train,y_train)\n",
    "   y_pred = Lassoclassifier.predict(x_test)\n",
    "   rmse = mean_squared_error(y_test, y_pred, squared=False)\n",
    "   list_rsme_lasso.append(rmse)\n",
    "\n",
    "print(list_rsme_lasso)\n",
    "plt.plot(list_rsme_lasso,list_a)\n",
    "plt.show()"
   ]
  }
 ],
 "metadata": {
  "kernelspec": {
   "display_name": "Python 3.10.8 64-bit",
   "language": "python",
   "name": "python3"
  },
  "language_info": {
   "codemirror_mode": {
    "name": "ipython",
    "version": 3
   },
   "file_extension": ".py",
   "mimetype": "text/x-python",
   "name": "python",
   "nbconvert_exporter": "python",
   "pygments_lexer": "ipython3",
   "version": "3.10.8"
  },
  "vscode": {
   "interpreter": {
    "hash": "bd385fe162c5ca0c84973b7dd5c518456272446b2b64e67c2a69f949ca7a1754"
   }
  }
 },
 "nbformat": 4,
 "nbformat_minor": 5
}
