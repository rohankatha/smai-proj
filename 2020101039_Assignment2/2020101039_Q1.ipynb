{
 "cells": [
  {
   "cell_type": "markdown",
   "id": "186be3d3",
   "metadata": {},
   "source": [
    "# Assignment 2 - Question 1\n",
    "The objective of this assignment is to get you familiarize with  the  problem  of  `KNN Classifiers`.\n",
    "\n",
    "\n",
    "## Instructions\n",
    "- Do not Use Direct Inbuilt functions for the Task.\n",
    "- Numpy or other math libraries are allowed \n",
    "- Ensure that this notebook runs without errors when the cells are run in sequence.\n",
    "- Do not change the contents of the Given cells. Use new cells to Write your code.\n",
    "\n",
    "\n",
    "## Submission\n",
    "- Ensure that this notebook runs without errors when the cells are run in sequence.\n",
    "- Rename the notebook to `<roll_number>_Q1.ipynb`\n",
    "- Fill the Name and Roll number in the below markdown"
   ]
  },
  {
   "cell_type": "markdown",
   "id": "6f6269f1",
   "metadata": {},
   "source": [
    "Name: Katha rohan reddy <br>\n",
    "Roll Number: 2020101039"
   ]
  },
  {
   "cell_type": "markdown",
   "id": "edeabff5",
   "metadata": {},
   "source": [
    "### Dataset\n",
    "\n",
    "Use the code below to load the Dataset"
   ]
  },
  {
   "cell_type": "code",
   "execution_count": 1,
   "id": "69cac090",
   "metadata": {},
   "outputs": [],
   "source": [
    "import numpy as np\n",
    "import pandas as pd\n",
    "from sklearn.model_selection import train_test_split"
   ]
  },
  {
   "cell_type": "code",
   "execution_count": 2,
   "id": "e0fa6912",
   "metadata": {},
   "outputs": [],
   "source": [
    "#Load data\n",
    "iris = pd.read_csv('Iris.csv')\n",
    "#data cleaning\n",
    "iris.drop(columns=\"Id\",inplace=True)"
   ]
  },
  {
   "cell_type": "code",
   "execution_count": 3,
   "id": "1ca8135b",
   "metadata": {},
   "outputs": [],
   "source": [
    "#features and labels\n",
    "X=iris.iloc[:,0:4].values\n",
    "y=iris.iloc[:,4].values\n",
    "\n",
    "#Train and Test split\n",
    "X_train,X_test,y_train,y_test=train_test_split(X,y,test_size=0.2,random_state=0)"
   ]
  },
  {
   "cell_type": "markdown",
   "id": "d14014cb",
   "metadata": {},
   "source": [
    "Write your Code below for KNN Classifier.<br>\n",
    "Use different values of K and test the accuracies."
   ]
  },
  {
   "cell_type": "code",
   "execution_count": 4,
   "id": "6ca8c19d",
   "metadata": {},
   "outputs": [
    {
     "name": "stdout",
     "output_type": "stream",
     "text": [
      "[100.0, 100.0, 96.66666666666667, 100.0, 96.66666666666667, 100.0, 100.0, 100.0, 100.0, 100.0, 100.0, 100.0, 100.0, 100.0, 100.0, 100.0, 100.0, 100.0, 100.0, 100.0, 100.0, 100.0, 100.0, 100.0, 100.0, 100.0, 96.66666666666667, 96.66666666666667, 96.66666666666667, 96.66666666666667, 93.33333333333333, 93.33333333333333, 93.33333333333333, 96.66666666666667, 93.33333333333333, 93.33333333333333, 93.33333333333333, 93.33333333333333, 93.33333333333333, 93.33333333333333, 93.33333333333333, 93.33333333333333, 93.33333333333333, 93.33333333333333, 93.33333333333333, 93.33333333333333, 90.0, 90.0, 90.0, 90.0, 90.0, 90.0, 90.0, 90.0, 90.0, 90.0, 90.0, 93.33333333333333, 93.33333333333333, 93.33333333333333, 90.0, 93.33333333333333, 90.0, 93.33333333333333, 90.0, 93.33333333333333, 90.0, 93.33333333333333, 80.0, 83.33333333333334, 80.0, 86.66666666666667, 83.33333333333334, 86.66666666666667, 70.0, 66.66666666666667, 66.66666666666667, 63.33333333333333, 63.33333333333333, 60.0, 60.0, 60.0, 60.0, 63.33333333333333, 63.33333333333333, 63.33333333333333, 63.33333333333333, 63.33333333333333, 63.33333333333333, 63.33333333333333, 63.33333333333333, 63.33333333333333, 56.666666666666664, 56.666666666666664, 56.666666666666664, 56.666666666666664, 56.666666666666664, 56.666666666666664, 56.666666666666664]\n"
     ]
    }
   ],
   "source": [
    "list_tot = np.column_stack((X_train,y_train))\n",
    "def mostfreq(list_count):\n",
    "  max_ans = 0\n",
    "  for i in list_count:\n",
    "    freq = list_count.count(i)\n",
    "    max_ans = max(freq,max_ans)\n",
    "    \n",
    "  for i in list_count:\n",
    "    if(list_count.count(i) == max_ans):\n",
    "        return i\n",
    "\n",
    "\n",
    "def knn(k,X_test):\n",
    " list_ans = []\n",
    " for i in X_test:\n",
    "    list_dist = []\n",
    "    \n",
    "    for j in list_tot:\n",
    "        list_dist.append([(i[0]-j[0])**2 +(i[1]-j[1])**2+(i[2]-j[2])**2 + (i[3]-j[3])**2,j[4]])\n",
    "    \n",
    "    \n",
    "    list_dist.sort()\n",
    "    #print(list_dist)\n",
    "    list_count = []\n",
    "    \n",
    "    for p in range(k):\n",
    "        list_count.append(list_dist[p][1])\n",
    "\n",
    "    list_ans.append(mostfreq(list_count))\n",
    "\n",
    " return list_ans\n",
    "    \n",
    "list_accuracy_avg = []\n",
    "\n",
    "\n",
    "for i in range(1,100):\n",
    "    list_ans = knn(i,X_test)\n",
    "    missampled = 0\n",
    "    for j in range(len(y_test)):\n",
    "        if(y_test[j] != list_ans[j]):\n",
    "            missampled = missampled+1\n",
    "    list_accuracy_avg.append(100*(1-(missampled)/len(y_test)))\n",
    "\n",
    "print(list_accuracy_avg)\n",
    "\n",
    "\n",
    "\n",
    "\n"
   ]
  },
  {
   "cell_type": "markdown",
   "id": "1c3ac0ca",
   "metadata": {},
   "source": [
    "### Questions\n",
    "\n",
    "1) What are the Advantages and Disadvantages of KNN algorithm?<br>\n",
    "2) What is the complexity of the KNN algorithm during Training and Testing?<br> \n",
    "3) Is euclidian distance the only distance metric used in KNN? \n",
    "4) what K value gave the best accuracy?"
   ]
  },
  {
   "cell_type": "markdown",
   "id": "47958869",
   "metadata": {},
   "source": []
  },
  {
   "cell_type": "markdown",
   "id": "c10eb89f",
   "metadata": {},
   "source": [
    "### q1)<br>\n",
    " Advantages <br>\n",
    " 1)it is easy and simple to implement<br>\n",
    " 2)No training complexity<br>\n",
    "\n",
    " Disadvantages<br>\n",
    " 1)Can overfit<br>\n",
    " 2)Depends on k <br>\n",
    " 3)Takes more time when applied on heavy datasets<br>\n"
   ]
  },
  {
   "cell_type": "markdown",
   "id": "46a9a172",
   "metadata": {},
   "source": [
    "### q2) \n",
    "Time complexity while training --> O(1)\n",
    "While testing ---> O(n)"
   ]
  },
  {
   "cell_type": "markdown",
   "id": "3de095b5",
   "metadata": {},
   "source": [
    "### q3)\n",
    "No there are other distances like manhattan distance,cosine ditances"
   ]
  },
  {
   "cell_type": "markdown",
   "id": "62d5d91b",
   "metadata": {},
   "source": [
    "### q4)\n",
    "The best accuracy is given when k is 1 "
   ]
  }
 ],
 "metadata": {
  "kernelspec": {
   "display_name": "Python 3.8.9 64-bit",
   "language": "python",
   "name": "python3"
  },
  "language_info": {
   "codemirror_mode": {
    "name": "ipython",
    "version": 3
   },
   "file_extension": ".py",
   "mimetype": "text/x-python",
   "name": "python",
   "nbconvert_exporter": "python",
   "pygments_lexer": "ipython3",
   "version": "3.8.9"
  },
  "vscode": {
   "interpreter": {
    "hash": "31f2aee4e71d21fbe5cf8b01ff0e069b9275f58929596ceb00d14d90e3e16cd6"
   }
  }
 },
 "nbformat": 4,
 "nbformat_minor": 5
}
